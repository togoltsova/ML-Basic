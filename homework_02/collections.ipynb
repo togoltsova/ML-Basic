{
 "cells": [
  {
   "metadata": {},
   "cell_type": "markdown",
   "source": [
    "Задание 1: Создайте список чисел от 1 до 10. Удалите все четные числа из списка и выведите результат.\n",
    "\n",
    "Задание 2: Дано: список words = [\"apple\", \"banana\", \"cherry\", \"date\", \"fig\", \"grape\"]. Используя срезы, создайте новый список, содержащий только первые три элемента, и выведите его.\n",
    "\n",
    "Задание 3: Дано: список numbers = [5, 3, 8, 6, 2, 9, 1]. Отсортируйте этот список в порядке убывания и выведите результат.\n",
    "\n",
    "Задание 4: Создайте список имен names = [\"Alice\", \"Bob\", \"Charlie\", \"David\"]. Замените имя \"Charlie\" на \"Eve\" и выведите измененный список."
   ],
   "id": "76f043f1cc5c4da7"
  },
  {
   "metadata": {
    "ExecuteTime": {
     "end_time": "2025-10-17T20:32:07.869560Z",
     "start_time": "2025-10-17T20:32:07.863150Z"
    }
   },
   "cell_type": "code",
   "source": [
    "#1\n",
    "list_1 = [i for i in range(1, 11)]\n",
    "print(list_1)\n",
    "list_2 = list(range(1, 11))\n",
    "print(list_2)\n",
    "#2\n",
    "list_3 = [\"apple\", \"banana\", \"cherry\", \"date\", \"fig\", \"grape\"]\n",
    "list_4 = list_3[:3]\n",
    "print(list_4)\n",
    "#3\n",
    "numbers = [5, 3, 8, 6, 2, 9, 1]\n",
    "num_sort = numbers.sort(reverse=True) # inplace sort\n",
    "print(numbers)\n",
    "print(num_sort)\n",
    "#4\n",
    "names = [\"Alice\", \"Bob\", \"Charlie\", \"David\"]\n",
    "names[2] = \"Eve\"\n",
    "print(names)"
   ],
   "id": "c7b2a9eca2898bc9",
   "outputs": [
    {
     "name": "stdout",
     "output_type": "stream",
     "text": [
      "[1, 2, 3, 4, 5, 6, 7, 8, 9, 10]\n",
      "[1, 2, 3, 4, 5, 6, 7, 8, 9, 10]\n",
      "['apple', 'banana', 'cherry']\n",
      "[9, 8, 6, 5, 3, 2, 1]\n",
      "None\n",
      "['Alice', 'Bob', 'Eve', 'David']\n"
     ]
    }
   ],
   "execution_count": 1
  },
  {
   "metadata": {},
   "cell_type": "code",
   "outputs": [],
   "execution_count": null,
   "source": "",
   "id": "551c1be6e48dc065"
  },
  {
   "metadata": {},
   "cell_type": "markdown",
   "source": [
    "- **Неизменяемость**: После создания кортежа его элементы нельзя изменить, добавить или удалить. Это делает кортежи полезными для хранения данных, которые не должны изменяться в ходе выполнения программы.\n",
    "\n",
    "```python\n",
    "immutable_tuple = (1, 2, 3)\n",
    "# immutable_tuple[0] = 10  # Ошибка! Нельзя изменить элемент кортежа\n",
    "```\n",
    "\n",
    "- **Эффективность**: Кортежи обычно быстрее обрабатываются, чем списки, из-за неизменяемости, что делает их предпочтительными для данных, которые не меняются.\n",
    "\n",
    "---\n",
    "\n",
    "**Применение кортежей в программах**\n",
    "\n",
    "Кортежи часто используются для:\n",
    "\n",
    "1. **Хранения неизменяемых данных**: Например, координаты (x, y) или параметры конфигурации.\n",
    "2. **Возврата нескольких значений из функции**:\n",
    "3. **Использования в качестве ключей словарей**: Так как кортежи неизменяемы, они могут быть ключами в словарях, в отличие от списков."
   ],
   "id": "e87b0670fd1fd006"
  },
  {
   "metadata": {},
   "cell_type": "code",
   "outputs": [],
   "execution_count": null,
   "source": [
    "def get_coordinates():\n",
    "    return (10.5, 20.3)\n",
    "\n",
    "x, y = get_coordinates()\n",
    "print(x)  # 10.5\n",
    "print(y)  # 20.3"
   ],
   "id": "831cdbec49491013"
  },
  {
   "metadata": {},
   "cell_type": "markdown",
   "source": [
    "Примеры использования кортежей в реальных программах\n",
    "\n",
    "Защита данных: Кортежи используются, когда необходимо гарантировать, что данные не будут изменены.\n",
    "Экономия памяти: Кортежи занимают меньше памяти, чем списки, поэтому их использование предпочтительно для больших наборов данных, которые не будут изменяться.\n",
    "Функции с переменным количеством аргументов: Кортежи часто используются для обработки переменного количества аргументов в функциях."
   ],
   "id": "cef39d384c30c5c3"
  },
  {
   "metadata": {
    "ExecuteTime": {
     "end_time": "2025-10-17T20:35:26.917493Z",
     "start_time": "2025-10-17T20:35:26.914225Z"
    }
   },
   "cell_type": "code",
   "source": [
    "def print_args(*args):\n",
    "    print(args)  # args будет кортежем всех переданных аргументов\n",
    "\n",
    "print_args(1, 2, 3)  # (1, 2, 3)"
   ],
   "id": "e094295de76f708b",
   "outputs": [
    {
     "name": "stdout",
     "output_type": "stream",
     "text": [
      "(1, 2, 3)\n"
     ]
    }
   ],
   "execution_count": 2
  },
  {
   "metadata": {},
   "cell_type": "markdown",
   "source": [
    "Задания по кортежам\n",
    "\n",
    "Задание 1:\n",
    "Создайте кортеж из чисел от 1 до 5. Преобразуйте его в список, добавьте число 6, и преобразуйте обратно в кортеж. Выведите результат.\n",
    "\n",
    "Задание 2:\n",
    "Дано: кортеж fruits = (\"apple\", \"banana\", \"cherry\", \"date\").\n",
    "Используя срезы, создайте новый кортеж, содержащий только первые два элемента, и выведите его.\n",
    "\n",
    "Задание 3:\n",
    "Дано: кортеж info = (\"John\", \"Doe\", 30, \"New York\").\n",
    "Извлеките и выведите имя и фамилию как отдельные переменные.\n",
    "\n",
    "Задание 4:\n",
    "Создайте кортеж data = (10, 20, 30, 40, 50). Используя метод распаковки, присвойте первые два значения переменным a и b, а остальные значения соберите в переменную others. Выведите a, b и others."
   ],
   "id": "388472635738bfeb"
  },
  {
   "metadata": {
    "ExecuteTime": {
     "end_time": "2025-10-17T20:40:57.610924Z",
     "start_time": "2025-10-17T20:40:57.604451Z"
    }
   },
   "cell_type": "code",
   "source": [
    "#1\n",
    "tpl_1 = tuple(range(1, 6))\n",
    "print(tpl_1)\n",
    "tpl_list = list(tpl_1)\n",
    "tpl_list.append(6)\n",
    "tpl_2 = tuple(tpl_list)\n",
    "print(tpl_2)\n",
    "#2\n",
    "fruits = (\"apple\", \"banana\", \"cherry\", \"date\")\n",
    "tpl_3 = fruits[:2]\n",
    "print(tpl_3)\n",
    "info = (\"John\", \"Doe\", 30, \"New York\")\n",
    "name, surname = info[:2]\n",
    "print(name)\n",
    "print(surname)\n",
    "data = (10, 20, 30, 40, 50)\n",
    "a, b, *others = data\n",
    "print(a)\n",
    "print(b)\n",
    "print(others)"
   ],
   "id": "1f910b250d0d5164",
   "outputs": [
    {
     "name": "stdout",
     "output_type": "stream",
     "text": [
      "(1, 2, 3, 4, 5)\n",
      "(1, 2, 3, 4, 5, 6)\n",
      "('apple', 'banana')\n",
      "John\n",
      "Doe\n",
      "10\n",
      "20\n",
      "[30, 40, 50]\n"
     ]
    }
   ],
   "execution_count": 8
  },
  {
   "metadata": {},
   "cell_type": "code",
   "outputs": [],
   "execution_count": null,
   "source": "",
   "id": "250e6494059c3b8c"
  }
 ],
 "metadata": {
  "kernelspec": {
   "display_name": "Python 3",
   "language": "python",
   "name": "python3"
  },
  "language_info": {
   "codemirror_mode": {
    "name": "ipython",
    "version": 2
   },
   "file_extension": ".py",
   "mimetype": "text/x-python",
   "name": "python",
   "nbconvert_exporter": "python",
   "pygments_lexer": "ipython2",
   "version": "2.7.6"
  }
 },
 "nbformat": 4,
 "nbformat_minor": 5
}
