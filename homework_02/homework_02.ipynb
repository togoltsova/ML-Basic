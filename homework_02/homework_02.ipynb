{
 "cells": [
  {
   "cell_type": "markdown",
   "id": "a2c501e6",
   "metadata": {},
   "source": [
    "# Домашнее задание: Управляющие конструкции"
   ]
  },
  {
   "cell_type": "markdown",
   "id": "3e4cac4a",
   "metadata": {},
   "source": [
    "## Задание 1: Получение однозначного числа\n",
    "\n",
    "Пользователь вводит целое число, программа складывает все цифры числа, с полученным числом — то же самое, и так до тех пор, пока не получится однозначное число.\n",
    "\n",
    "<br>\n",
    "\n",
    "**Примеры:**\n",
    "* `545   -> 5`\n",
    "* `12345 -> 6`"
   ]
  },
  {
   "cell_type": "code",
   "id": "344e919f",
   "metadata": {
    "ExecuteTime": {
     "end_time": "2025-10-14T17:40:39.390838Z",
     "start_time": "2025-10-14T17:40:35.008351Z"
    }
   },
   "source": [
    "input_digit = input(\"Input digit:\")\n",
    "str_digit = input_digit.strip()\n",
    "if not len(str_digit):\n",
    "    print(\"Input digit must be not empty\")\n",
    "    exit()\n",
    "\n",
    "if not str_digit.isdigit():\n",
    "    print(\"Input digit must be a number\")\n",
    "    exit()\n",
    "\n",
    "sum_digits = None\n",
    "while len(str(sum_digits)) != 1:\n",
    "    sum_digits = 0\n",
    "    for digit in str_digit:\n",
    "        sum_digits += int(digit)\n",
    "    str_digit = str(sum_digits)\n",
    "\n",
    "result = f\"{input_digit} -> {sum_digits}\"\n",
    "print(result)\n"
   ],
   "outputs": [
    {
     "name": "stdout",
     "output_type": "stream",
     "text": [
      "545 -> 5\n"
     ]
    }
   ],
   "execution_count": 7
  },
  {
   "cell_type": "markdown",
   "id": "45527a4a",
   "metadata": {},
   "source": [
    "## Задание 2: Кинотеатр\n",
    "\n",
    "Дан список списков, каждый вложенный список состоит из 1 и 0, количество вложенных списков — количество рядов. Пользователь вводит, сколько билетов ему требуется. Программа должна найти ряд, где можно приобрести нужное количество билетов (места должны быть рядом). Если таких рядов несколько, то ближайший к экрану (ближайшим считается нулевой ряд). Если таких мест нет, то вывести False.\n",
    "\n",
    "<br>\n",
    "\n",
    "**Примеры:**\n",
    "* `[[0,1,1,0], [1,0,0,0], [0,1,0,0]], 2 -> 1`\n",
    "* `[[0,1,1,0], [1,0,1,0], [1,1,0,1]], 2 -> False`"
   ]
  },
  {
   "cell_type": "code",
   "id": "3a29082d",
   "metadata": {
    "ExecuteTime": {
     "end_time": "2025-10-14T18:33:00.507677Z",
     "start_time": "2025-10-14T18:32:57.424573Z"
    }
   },
   "source": [
    "# input_seat_list = input(\"List of lines of seats:\")\n",
    "seat_list = [[0,1,1,0], [1,0,0,0], [0,1,0,0]]\n",
    "# seat_list = [[0,1,1,0], [1,0,1,0], [1,1,0,1]]\n",
    "input_ticket_count = input(\"Count of tickets:\")\n",
    "str_ticket_count = input_ticket_count.strip()\n",
    "if not len(str_ticket_count) or not int(str_ticket_count):\n",
    "    print(\"Count of tickets must be not empty\")\n",
    "    exit()\n",
    "\n",
    "if not str_ticket_count.isdigit():\n",
    "    print(\"Count of tickets must be a number\")\n",
    "    exit()\n",
    "\n",
    "ticket_count = int(str_ticket_count)\n",
    "result_line_number = False\n",
    "for line_number, line in enumerate(seat_list):\n",
    "    if result_line_number:\n",
    "        break\n",
    "    if len(line) < ticket_count:\n",
    "        continue\n",
    "    seat_free = 0\n",
    "    for seat_number, seat in enumerate(line):\n",
    "        if seat == 1:\n",
    "            seat_free = 0\n",
    "            continue\n",
    "        seat_free += 1\n",
    "        if seat_free == ticket_count:\n",
    "            result_line_number = line_number\n",
    "            break\n",
    "\n",
    "result = f\"{seat_list} , {str_ticket_count} -> {result_line_number}\"\n",
    "print(result)\n",
    "# ВАШ КОД ЗДЕСЬ"
   ],
   "outputs": [
    {
     "name": "stdout",
     "output_type": "stream",
     "text": [
      "[[0, 1, 1, 0], [1, 0, 0, 0], [0, 1, 0, 0]] , 2 -> 1\n"
     ]
    }
   ],
   "execution_count": 14
  },
  {
   "cell_type": "markdown",
   "id": "7b7f098c",
   "metadata": {},
   "source": [
    "## Задание 3: Алгоритм RLE\n",
    "\n",
    "Необходимо написать упрощенную версию алгоритма RLE. \n",
    "Алгоритм RLE объединяет подряд идущие символы в коэффициент и символ.\n",
    "\n",
    "<br>\n",
    "\n",
    "**Примеры:**\n",
    "* `asssdddsssddd -> 1a3s3d3s3d`\n",
    "* `aaabbbbccccc  -> 3a4b5c`\n",
    "* `abcba         -> 1a1b1c1b1a`"
   ]
  },
  {
   "cell_type": "code",
   "id": "e0d30ec2",
   "metadata": {
    "ExecuteTime": {
     "end_time": "2025-10-14T19:06:12.417707Z",
     "start_time": "2025-10-14T19:06:07.406985Z"
    }
   },
   "source": [
    "input_string = input(\"Input string:\")\n",
    "input_string = input_string.strip()\n",
    "if not len(input_string):\n",
    "    print(\"Input string must be not empty\")\n",
    "    exit()\n",
    "\n",
    "result_string = \"\"\n",
    "char_count = 0\n",
    "prev_char = input_string[0]\n",
    "for char_index, char in enumerate(input_string):\n",
    "    if prev_char == char:\n",
    "        char_count += 1\n",
    "        if char_index == len(input_string) - 1:\n",
    "            result_string += f\"{char_count}{prev_char}\"\n",
    "            break\n",
    "        continue\n",
    "    result_string += f\"{char_count}{prev_char}\"\n",
    "    prev_char = char\n",
    "    char_count = 1\n",
    "\n",
    "print(f\"{input_string} -> {result_string}\")"
   ],
   "outputs": [
    {
     "name": "stdout",
     "output_type": "stream",
     "text": [
      "asssdddsssddd -> 1a3s3d3s3d\n"
     ]
    }
   ],
   "execution_count": 22
  },
  {
   "cell_type": "markdown",
   "id": "f24d5e58",
   "metadata": {},
   "source": [
    "## Задание 4: Шифр Цезаря\n",
    "\n",
    "Реализуйте программу для шифрования текста с помощью шифра Цезаря.  \n",
    "Шифр Цезаря — это метод шифрования, при котором каждая буква в тексте заменяется буквой, стоящей на фиксированное число позиций дальше в алфавите.\n",
    "\n",
    "### Требования\n",
    "1. Программа должна принимать на вход:\n",
    "   - Строку текста для шифрования\n",
    "   - Ключ шифра (число от 0 до 25)\n",
    "\n",
    "2. Правила шифрования:\n",
    "   - Шифруются только латинские буквы (a-z, A-Z)\n",
    "   - Сохраняется регистр букв (заглавные остаются заглавными)\n",
    "   - Пробелы, цифры и знаки препинания остаются без изменений\n",
    "   - Сдвиг циклический (после 'z' идет 'a', после 'Z' идет 'A')\n",
    "\n",
    "### Примеры\n",
    "\n",
    "* `\"Hello World\", 3      -> \"Khoor Zruog\"`\n",
    "* `\"Python is great!\", 5 -> \"Udymts nx lwjfy!\"`\n",
    "* `\"XYZ abc\", 3          -> \"ABC def\"`\n",
    "* `\"Test 123\", 1         -> \"Uftu 123\"`\n",
    "\n",
    "### Алгоритм\n",
    "* Для каждого символа в строке:\n",
    "   - Если это латинская буква, найти её позицию в алфавите\n",
    "   - Добавить к позиции значение ключа\n",
    "   - Если результат больше 25, использовать остаток от деления на 26\n",
    "   - Преобразовать обратно в букву, сохранив регистр\n",
    "   - Если это не буква, оставить символ без изменений\n"
   ]
  },
  {
   "cell_type": "code",
   "id": "6a075d20",
   "metadata": {
    "ExecuteTime": {
     "end_time": "2025-10-14T19:54:59.191542Z",
     "start_time": "2025-10-14T19:54:51.483653Z"
    }
   },
   "source": [
    "input_text = input(\"Input text:\")\n",
    "input_text = input_text.strip()\n",
    "if not len(input_text):\n",
    "    print(\"Input text must be not empty\")\n",
    "    exit()\n",
    "input_key = input(\"Input key. From 0 to 25:\")\n",
    "input_key = input_key.strip()\n",
    "if not len(input_key):\n",
    "    print(\"Key must be not empty\")\n",
    "    exit()\n",
    "\n",
    "if not input_key.isdigit():\n",
    "    print(\"Key must be a number\")\n",
    "    exit()\n",
    "key = int(input_key)\n",
    "\n",
    "if key < 0 or key > 25:\n",
    "    print(\"Key must be from 0 to 25\")\n",
    "    exit()\n",
    "\n",
    "result_text = \"\"\n",
    "char_count = 0\n",
    "# ascii code of 'A' = 65 till 'Z' = 90, 'a' = 97 till ''z' = 122'\n",
    "for char in input_text:\n",
    "    if char.isalpha():\n",
    "        char_code = ord(char)\n",
    "        is_upper = False\n",
    "        if 64 < char_code < 91:\n",
    "            is_upper = True\n",
    "        char_lower = char_code + 32 if is_upper else char_code\n",
    "        char_code = char_lower + key if char_lower + key <= 122 else char_lower + key - 26\n",
    "        char_translated = chr(char_code).upper() if is_upper else chr(char_code)\n",
    "        result_text += char_translated\n",
    "    else:\n",
    "        result_text += char\n",
    "\n",
    "print(f\"{input_text} -> {result_text}\" )"
   ],
   "outputs": [
    {
     "name": "stdout",
     "output_type": "stream",
     "text": [
      "Test 123 -> Uftu 123\n"
     ]
    }
   ],
   "execution_count": 35
  },
  {
   "cell_type": "markdown",
   "id": "c88bf52c",
   "metadata": {},
   "source": [
    "## Задание 5: Табель успеваемости\n",
    "\n",
    "Пользователь в бесконечном цикле (пока не будет введена пустая строка) вводит строки вида: 'название предмета' 'фамилия ученика' 'оценка'. После окончания ввода программа выводит в консоль название предмета, далее список учеников и все их оценки в виде таблицы.\n",
    "\n",
    "<br>\n",
    "\n",
    "**Примеры:**\n",
    "\n",
    "<br>\n",
    "\n",
    "*Ввод:*\n",
    "```python\n",
    "Математика Иванов  5\n",
    "Математика Иванов  4\n",
    "Литература Иванов  3\n",
    "Математика Петров  5\n",
    "Литература Сидоров 3\n",
    "Литература Петров  5\n",
    "Литература Иванов  4\n",
    "Математика Сидоров 3\n",
    "Математика Петров  5\n",
    "```\n",
    "\n",
    "<br>\n",
    "\n",
    "*Результат:*\n",
    "```python\n",
    "Математика # вводим название предмета\n",
    "\n",
    "# выводим список учеников и их оценки\n",
    "Иванов  5 4\n",
    "Петров  5 5\n",
    "Сидоров 3\n",
    "```\n",
    "\n",
    "```python\n",
    "Литература # вводим название предмета\n",
    "\n",
    "# выводим список учеников и их оценки\n",
    "Иванов  3 4\n",
    "Сидоров 3\n",
    "Петров  5\n",
    "```"
   ]
  },
  {
   "cell_type": "code",
   "id": "196f6ff4",
   "metadata": {
    "ExecuteTime": {
     "end_time": "2025-10-14T21:47:08.540740Z",
     "start_time": "2025-10-14T21:45:53.925020Z"
    }
   },
   "source": [
    "subject_records = {}\n",
    "student_records = {}\n",
    "\n",
    "while True:\n",
    "    input_study_record = input(\"Input [subject name] [student name] [grade]:\")\n",
    "    if not len(input_study_record):\n",
    "        break\n",
    "    study_record = input_study_record.split(\" \")\n",
    "    student_records = subject_records[study_record[0]] if study_record[0] in subject_records else {}\n",
    "    student_records[study_record[1]] = student_records[study_record[1]] + \" \" + study_record[2] if study_record[1] in student_records else study_record[2]\n",
    "    subject_records[study_record[0]] = student_records\n",
    "\n",
    "print(\"Input records:\")\n",
    "print(subject_records)\n",
    "print(\"\\nResults:\")\n",
    "\n",
    "for subject, students in subject_records.items():\n",
    "    print(\"\\n\" + subject)\n",
    "    for student, grade in students.items():\n",
    "        print(f\"{student} {grade}\")\n"
   ],
   "outputs": [
    {
     "name": "stdout",
     "output_type": "stream",
     "text": [
      "Input records:\n",
      "{'Математика': {'Иванов': '5 4', 'Петров': '5'}, 'Литература': {'Иванов': '3', 'Сидоров': '3', 'Петров': '5'}}\n",
      "\n",
      "Results:\n",
      "\n",
      "Математика\n",
      "Иванов 5 4\n",
      "Петров 5\n",
      "\n",
      "Литература\n",
      "Иванов 3\n",
      "Сидоров 3\n",
      "Петров 5\n"
     ]
    }
   ],
   "execution_count": 60
  },
  {
   "metadata": {},
   "cell_type": "code",
   "outputs": [],
   "execution_count": null,
   "source": "",
   "id": "476365102e6e1c89"
  }
 ],
 "metadata": {
  "kernelspec": {
   "display_name": ".venv (3.11.12)",
   "language": "python",
   "name": "python3"
  },
  "language_info": {
   "codemirror_mode": {
    "name": "ipython",
    "version": 3
   },
   "file_extension": ".py",
   "mimetype": "text/x-python",
   "name": "python",
   "nbconvert_exporter": "python",
   "pygments_lexer": "ipython3",
   "version": "3.11.12"
  }
 },
 "nbformat": 4,
 "nbformat_minor": 5
}
