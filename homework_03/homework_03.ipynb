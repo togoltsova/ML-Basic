{
 "cells": [
  {
   "cell_type": "markdown",
   "id": "e2450ffa",
   "metadata": {},
   "source": [
    "# Домашнее задание: Функции"
   ]
  },
  {
   "metadata": {
    "ExecuteTime": {
     "end_time": "2025-10-21T20:01:57.014595Z",
     "start_time": "2025-10-21T20:01:57.011971Z"
    }
   },
   "cell_type": "code",
   "source": [
    "def print_func_result(func, *args):\n",
    "    print(f\"{args} -> {func(args = args)}\")"
   ],
   "id": "d3eba17b9e9fe793",
   "outputs": [],
   "execution_count": 41
  },
  {
   "cell_type": "markdown",
   "id": "8d062500",
   "metadata": {},
   "source": [
    "## Задание 1: Конвертер регистров\n",
    "\n",
    "Написать функцию, которая будет переводить snake_case в PascalCase и наоборот. \n",
    "\n",
    "Функция должна сама определять - какой формат ей передали. Можно добавить ключевой аргумент, который будет принудительно возвращать один из форматов.\n",
    "\n",
    "<br>\n",
    "\n",
    "**Примеры:**\n",
    "* `otus_course     -> OtusCourse`\n",
    "* `PythonIsTheBest -> python_is_the_best`\n",
    "\n"
   ]
  },
  {
   "cell_type": "code",
   "id": "ec0075f5",
   "metadata": {
    "ExecuteTime": {
     "end_time": "2025-10-21T20:15:08.772639Z",
     "start_time": "2025-10-21T20:15:08.764832Z"
    }
   },
   "source": [
    "def print_func_result(func, *args):\n",
    "    print(f\"{args} -> {func(args = args)}\")\n",
    "\n",
    "def convert_case(args) -> str:\n",
    "    if len(args) == 0:\n",
    "        return \"Error. No arguments\"\n",
    "    string = args[0]\n",
    "    case = \"\"\n",
    "    if len(args) > 1:\n",
    "        case = args[1]\n",
    "    if len(string) == 0:\n",
    "        return \"Error. String is empty\"\n",
    "    if len(case) == 0:\n",
    "        if \"_\" in string:\n",
    "            case = 'pascal'\n",
    "        else:\n",
    "            case = 'snake'\n",
    "\n",
    "    result = \"\"\n",
    "    if case == 'pascal':\n",
    "        string_split = string.split(\"_\")\n",
    "        for word in string_split:\n",
    "            if len(word):\n",
    "                result += word.title()\n",
    "    elif case == 'snake':\n",
    "        result += string[0].lower()\n",
    "        for char in string[1:]:\n",
    "            if len(char) and char != \"_\":\n",
    "                if char.isupper():\n",
    "                    result += \"_\" + char.lower()\n",
    "                else:\n",
    "                    result += char\n",
    "    else:\n",
    "        return f\"Error. '{case}' is unsupported case\"\n",
    "\n",
    "    return result\n",
    "\n",
    "\n",
    "# test\n",
    "print_func_result(convert_case, \"otus_course\")\n",
    "print_func_result(convert_case, \"python_is_the_best\", \"pascal\")\n",
    "print_func_result(convert_case, \"OtusCourse\", \"snake\")\n",
    "print_func_result(convert_case, \"OtusCourse_Basic\", \"snake\")\n",
    "print_func_result(convert_case, \"PythonIsTheBest\")\n",
    "print_func_result(convert_case, \"PythonIsTheBBest\")\n",
    "print_func_result(convert_case, \"otus_course__\")\n",
    "print_func_result(convert_case, \"PythonIsTheBest\", \"foo\")\n",
    "print_func_result(convert_case, \"\")"
   ],
   "outputs": [
    {
     "name": "stdout",
     "output_type": "stream",
     "text": [
      "('otus_course',) -> OtusCourse\n",
      "('python_is_the_best', 'pascal') -> PythonIsTheBest\n",
      "('OtusCourse', 'snake') -> otus_course\n",
      "('OtusCourse_Basic', 'snake') -> otus_course_basic\n",
      "('PythonIsTheBest',) -> python_is_the_best\n",
      "('PythonIsTheBBest',) -> python_is_the_b_best\n",
      "('otus_course__',) -> OtusCourse\n",
      "('PythonIsTheBest', 'foo') -> Error. 'foo' is unsupported case\n",
      "('',) -> Error. String is empty\n"
     ]
    }
   ],
   "execution_count": 52
  },
  {
   "cell_type": "markdown",
   "id": "b8253fb9",
   "metadata": {},
   "source": [
    "## Задание 2: Проверка валидности даты\n",
    "\n",
    "Написать функцию проверяющую валидность введенной даты.\n",
    "\n",
    "<br>\n",
    "\n",
    "**Примеры:**\n",
    "* `29.02.2000 -> True`\n",
    "* `29.02.2001 -> False`\n",
    "* `31.04.1962 -> False`\n",
    "\n"
   ]
  },
  {
   "cell_type": "code",
   "id": "e7f4e9c8",
   "metadata": {
    "ExecuteTime": {
     "end_time": "2025-10-21T20:17:47.934960Z",
     "start_time": "2025-10-21T20:17:47.927994Z"
    }
   },
   "source": [
    "def print_func_result(func, *args):\n",
    "    print(f\"{args} -> {func(args = args)}\")\n",
    "\n",
    "def validate_date(args) -> bool:\n",
    "    if len(args) == 0:\n",
    "        print(\"Error. No arguments\")\n",
    "        return False\n",
    "    date = args[0]\n",
    "    if len(date) == 0:\n",
    "        return False\n",
    "    date_split = date.split(\".\")\n",
    "    if len(date_split) != 3:\n",
    "        return False\n",
    "    day_str = date_split[0]\n",
    "    month_str = date_split[1]\n",
    "    year_str = date_split[2]\n",
    "    if not day_str.isdigit() or not month_str.isdigit() or not year_str.isdigit():\n",
    "        return False\n",
    "    day = int(day_str)\n",
    "    month = int(month_str)\n",
    "    year = int(year_str)\n",
    "    is_leap_year = year % 4 == 0 and (year % 100 != 0 or year % 400 == 0)\n",
    "    day_max = 31\n",
    "    if month < 1 or month > 12:\n",
    "        return False\n",
    "    elif month == 2:\n",
    "        if is_leap_year:\n",
    "            day_max = 29\n",
    "        else:\n",
    "            day_max = 28\n",
    "    elif month in [4, 6, 9, 11]:\n",
    "        day_max = 30\n",
    "    if day < 1 or day > day_max:\n",
    "        return False\n",
    "    return True\n",
    "\n",
    "# test\n",
    "print_func_result(validate_date, \"29.02.2000\")\n",
    "print_func_result(validate_date, \"29.02.2001\")\n",
    "print_func_result(validate_date, \"28.02.2001\")\n",
    "print_func_result(validate_date, \"31.04.1962\")\n",
    "print_func_result(validate_date, \"31.14.1962\")\n",
    "print_func_result(validate_date, \"51.14.1962\")\n",
    "print_func_result(validate_date, \"51.00.1962\")\n",
    "print_func_result(validate_date, \"00.00.1962\")\n",
    "\n",
    "\n"
   ],
   "outputs": [
    {
     "name": "stdout",
     "output_type": "stream",
     "text": [
      "('29.02.2000',) -> True\n",
      "('29.02.2001',) -> False\n",
      "('28.02.2001',) -> True\n",
      "('31.04.1962',) -> False\n",
      "('31.14.1962',) -> False\n",
      "('51.14.1962',) -> False\n",
      "('51.00.1962',) -> False\n",
      "('00.00.1962',) -> False\n"
     ]
    }
   ],
   "execution_count": 55
  },
  {
   "cell_type": "markdown",
   "id": "2d77053e",
   "metadata": {},
   "source": [
    "## Задание 3: Проверка на простое число\n",
    "\n",
    "Функция проверки на простое число. Простые числа – это такие числа, которые делятся на себя и на единицу.\n",
    "\n",
    "<br>\n",
    "\n",
    "**Примеры:**\n",
    "* `17 -> True`\n",
    "* `20 -> False`\n",
    "* `23 -> True`"
   ]
  },
  {
   "cell_type": "code",
   "id": "c20728f6",
   "metadata": {
    "ExecuteTime": {
     "end_time": "2025-10-21T20:22:00.561519Z",
     "start_time": "2025-10-21T20:22:00.556723Z"
    }
   },
   "source": [
    "def print_func_result(func, *args):\n",
    "    print(f\"{args} -> {func(args = args)}\")\n",
    "\n",
    "def validate_prime_number(args) -> bool:\n",
    "    if len(args) == 0:\n",
    "        print(\"Error. No arguments\")\n",
    "        return False\n",
    "    number = args[0]\n",
    "    if number < 2:\n",
    "        return False\n",
    "    for i in range(2, number - 1):\n",
    "        if number % i == 0:\n",
    "            return False\n",
    "    return True\n",
    "\n",
    "print_func_result(validate_prime_number, 17)\n",
    "print_func_result(validate_prime_number, 20)\n",
    "print_func_result(validate_prime_number, 23)\n",
    "print_func_result(validate_prime_number,)\n",
    "\n"
   ],
   "outputs": [
    {
     "name": "stdout",
     "output_type": "stream",
     "text": [
      "(17,) -> True\n",
      "(20,) -> False\n",
      "(23,) -> True\n",
      "Error. No arguments\n",
      "() -> False\n"
     ]
    }
   ],
   "execution_count": 59
  },
  {
   "cell_type": "markdown",
   "id": "29703efe",
   "metadata": {},
   "source": [
    "## Задание 4: Учет пользователей\n",
    "\n",
    "Пользователь в бесконечном цикле вводит данные пользователей: имя, затем фамилию, возраст и ID. Ввод продолжается до тех пор, пока не будет введено пустое поле. \n",
    "\n",
    "Пользователи заносятся в словарь, где ключ это ID пользователя, а остальные данные записываются в виде кортежа. \n",
    "\n",
    "**Программа должна проверять:**\n",
    "* имя и фамилия состоят только из символов и начинаются с большой буквы - если не с большой, то заменяет букву на большую;\n",
    "* возраст должен быть числом от 18 до 60;\n",
    "* ID - целое число, дополненное до 8 знаков незначащими нулями, ID должен быть уникальным.\n",
    "\n",
    "**Дополнительно:** написать функцию, которая будет выводить полученный словарь в виде таблицы."
   ]
  },
  {
   "cell_type": "code",
   "id": "54d1f971",
   "metadata": {
    "ExecuteTime": {
     "end_time": "2025-10-21T21:22:58.429475Z",
     "start_time": "2025-10-21T21:22:07.414788Z"
    }
   },
   "source": [
    "def print_table_result(records):\n",
    "    print(\"Input records:\")\n",
    "    print(records)\n",
    "    print(\"\\nResult table:\")\n",
    "\n",
    "    for u_id, record in records.items():\n",
    "        name, surname, age = record\n",
    "        print(f\"| {u_id} | {name} | {surname} | {age} |\")\n",
    "\n",
    "user_records = {}\n",
    "\n",
    "while True:\n",
    "    input_record = input(\"Input [name] [surname] [age] [ID]:\")\n",
    "    if not len(input_record):\n",
    "        break\n",
    "    user_record = input_record.split(\" \")\n",
    "    user_name = user_record[0]\n",
    "    user_surname = user_record[1]\n",
    "    user_age = user_record[2]\n",
    "    user_id = user_record[3]\n",
    "    if not user_name.isalpha() or not user_surname.isalpha():\n",
    "        print(\"Error. Name and surname must contain only letters\")\n",
    "        continue\n",
    "    if user_age.isdigit() and int(user_age) < 18 or int(user_age) > 60:\n",
    "        print(\"Error. Age must be between 18 and 60\")\n",
    "        continue\n",
    "    if not user_id.isdigit() or len(user_id) > 8:\n",
    "        print(\"Error. ID must be a number and 8 digits maximum\")\n",
    "        continue\n",
    "    if user_id in user_records:\n",
    "        print(\"Error. ID must be unique\")\n",
    "        continue\n",
    "    if len(user_id) < 8:\n",
    "        user_id = user_id.zfill(8)\n",
    "\n",
    "    user_records[user_id] = (user_record[0].title(), user_record[1].title(), user_record[2])\n",
    "\n",
    "print_table_result(user_records)\n",
    "\n",
    "# test data\n",
    "# Филипп Преображенский 25 12345678\n",
    "# Иван Борменталь 33 123\n",
    "# Полиграф Шариков 5 12\n",
    "# Зинаида Бунина 23 4445\n",
    "# Дарья Иванова 44 332\n",
    "# Федор Швондер 37 44\n"
   ],
   "outputs": [
    {
     "name": "stdout",
     "output_type": "stream",
     "text": [
      "Input records:\n",
      "{'12345678': ('Филипп', 'Преображенский', '25'), '00000123': ('Иван', 'Борменталь', '33'), '00000012': ('Полиграф', 'Шариков', '55'), '00004445': ('Зинаида', 'Бунина', '23'), '00000332': ('Дарья', 'Иванова', '44'), '00000044': ('Федор', 'Швондер', '37')}\n",
      "\n",
      "Result table:\n",
      "| 12345678 | Филипп | Преображенский | 25 |\n",
      "| 00000123 | Иван | Борменталь | 33 |\n",
      "| 00000012 | Полиграф | Шариков | 55 |\n",
      "| 00004445 | Зинаида | Бунина | 23 |\n",
      "| 00000332 | Дарья | Иванова | 44 |\n",
      "| 00000044 | Федор | Швондер | 37 |\n"
     ]
    }
   ],
   "execution_count": 69
  },
  {
   "metadata": {},
   "cell_type": "code",
   "outputs": [],
   "execution_count": null,
   "source": "",
   "id": "6dafc9598bb5da07"
  }
 ],
 "metadata": {
  "kernelspec": {
   "display_name": ".venv (3.11.12)",
   "language": "python",
   "name": "python3"
  },
  "language_info": {
   "name": "python",
   "version": "3.11.12"
  }
 },
 "nbformat": 4,
 "nbformat_minor": 5
}
