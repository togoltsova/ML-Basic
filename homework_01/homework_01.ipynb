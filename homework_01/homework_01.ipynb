{
 "cells": [
  {
   "cell_type": "markdown",
   "id": "8955a739",
   "metadata": {},
   "source": [
    "# Домашнее задание: Базовые типы данных\n",
    "\n"
   ]
  },
  {
   "cell_type": "markdown",
   "id": "d4e67b86",
   "metadata": {},
   "source": [
    "## Задание 1: Зеркальное отражение цифр\n",
    "\n",
    "Пользователь вводит пятизначное число. Программа должна зеркально отразить три центральные цифры. Первая и последняя остаются на местах.\n",
    "\n",
    "<br>\n",
    "\n",
    "**Примеры:**\n",
    "* `23456 -> 25436`\n",
    "* `30789 -> 38709`"
   ]
  },
  {
   "cell_type": "code",
   "id": "5a4d665d",
   "metadata": {
    "ExecuteTime": {
     "end_time": "2025-10-07T20:28:04.282600Z",
     "start_time": "2025-10-07T20:28:01.116306Z"
    }
   },
   "source": [
    "input_digit = input(\"Input digit:\")\n",
    "# print(input_digit[1:4])\n",
    "mirrored_digit = input_digit.replace(input_digit[1:4], input_digit[3:0:-1])\n",
    "print(mirrored_digit)"
   ],
   "outputs": [
    {
     "name": "stdout",
     "output_type": "stream",
     "text": [
      "38709\n"
     ]
    }
   ],
   "execution_count": 17
  },
  {
   "cell_type": "markdown",
   "id": "00b9578b",
   "metadata": {},
   "source": [
    "## Задание 2: Подсчет выходных до отпуска\n",
    "\n",
    "Пользователь вводит сколько дней осталось до ближайшего отпуска. Программа должна вывести количество выходных дней до отпуска, если учесть, что выходные это суббота и воскресенье, сегодня понедельник и праздники мы не учитываем.  \n",
    "\n",
    "<br>\n",
    "\n",
    "**Примеры:**\n",
    "* `4  -> 0`\n",
    "* `6  -> 1`\n",
    "* `14 -> 4`"
   ]
  },
  {
   "cell_type": "code",
   "id": "07154103",
   "metadata": {
    "ExecuteTime": {
     "end_time": "2025-10-07T20:35:45.587672Z",
     "start_time": "2025-10-07T20:35:40.310425Z"
    }
   },
   "source": [
    "input_count_days = int(input(\"Input count of days before holiday:\"))\n",
    "if input_count_days < 5:\n",
    "    print(0)\n",
    "else:\n",
    "    print(input_count_days - 5 * int(input_count_days / 5))\n"
   ],
   "outputs": [
    {
     "name": "stdout",
     "output_type": "stream",
     "text": [
      "0\n"
     ]
    }
   ],
   "execution_count": 20
  },
  {
   "cell_type": "markdown",
   "id": "cdde282c",
   "metadata": {},
   "source": [
    "## Задание 3: Плитка шоколада\n",
    "\n",
    "Пользователь вводит длину и ширину плитки шоколада, а также размер куска, который хочет отломить. Программа должна вычислить - можно ли совершить подобный разлом или нет, если учесть, что ломать можно только по прямой.\n",
    "\n",
    "<br>\n",
    "\n",
    "**Примеры:**\n",
    "* `3, 4, 6  -> True`\n",
    "* `5, 7, 8  -> False`\n",
    "* `4, 5, 12 -> True`"
   ]
  },
  {
   "cell_type": "code",
   "id": "70f3324c",
   "metadata": {
    "ExecuteTime": {
     "end_time": "2025-10-07T20:48:19.012866Z",
     "start_time": "2025-10-07T20:48:03.523837Z"
    }
   },
   "source": [
    "input_lws = input(\"Input length, width and size of piece of chocolate:\")\n",
    "length_width_size = input_lws.split(\",\")\n",
    "length = int(length_width_size[0])\n",
    "width = int(length_width_size[1])\n",
    "size = int(length_width_size[2])\n",
    "print(size % length == 0 or size % width == 0)\n"
   ],
   "outputs": [
    {
     "name": "stdout",
     "output_type": "stream",
     "text": [
      "True\n"
     ]
    }
   ],
   "execution_count": 24
  },
  {
   "cell_type": "markdown",
   "id": "6470efc1",
   "metadata": {},
   "source": [
    "## Задание 4: Римские числа\n",
    "\n",
    "Пользователь вводит целое положительное число, программа должна вернуть строку в виде римского числа.\n",
    "\n",
    "<br>\n",
    "\n",
    "**Примеры:**\n",
    "* `3   -> III`\n",
    "* `15  -> XV`\n",
    "* `234 -> CCXXXIV`"
   ]
  },
  {
   "cell_type": "code",
   "id": "8686127c",
   "metadata": {
    "ExecuteTime": {
     "end_time": "2025-10-07T22:29:51.358065Z",
     "start_time": "2025-10-07T22:29:43.368607Z"
    }
   },
   "source": [
    "# представленный ниже код избыточен, но по другому не получается, используя только материал второго урока \"Базовые типы данных (неизменяемые)\"\n",
    "rome_digit_max = 3999\n",
    "rome_1 = \"I\"\n",
    "rome_4 = \"IV\"\n",
    "rome_5 = \"V\"\n",
    "rome_9 = \"IX\"\n",
    "rome_10 = \"X\"\n",
    "rome_40 = \"XL\"\n",
    "rome_50 = \"L\"\n",
    "rome_90 = \"XC\"\n",
    "rome_100 = \"C\"\n",
    "rome_400 = \"CD\"\n",
    "rome_500 = \"D\"\n",
    "rome_900 = \"CM\"\n",
    "rome_1000 = \"M\"\n",
    "\n",
    "input_arabic_digit = input(\"Input arabic digit:\")\n",
    "number_digits = len(input_arabic_digit)\n",
    "arabic_digit = int(input_arabic_digit)\n",
    "\n",
    "if arabic_digit > rome_digit_max or arabic_digit < 1:\n",
    "    print(\"Error. Out of range.\")\n",
    "    exit()\n",
    "\n",
    "result_string = \"\"\n",
    "number_1000 = 0\n",
    "number_100 = 0\n",
    "number_10 = 0\n",
    "number_1 = int(input_arabic_digit[number_digits - 1])\n",
    "if number_digits == 4:\n",
    "    number_1000 = int(input_arabic_digit[0])\n",
    "    number_100 = int(input_arabic_digit[1])\n",
    "    number_10 = int(input_arabic_digit[2])\n",
    "if number_digits == 3:\n",
    "    number_100 = int(input_arabic_digit[0])\n",
    "    number_10 = int(input_arabic_digit[1])\n",
    "if number_digits == 2:\n",
    "    number_10 = int(input_arabic_digit[0])\n",
    "\n",
    "#тысячи\n",
    "if number_1000 < 4:\n",
    "    for i in range(number_1000):\n",
    "        result_string += rome_1000\n",
    "\n",
    "#сотни\n",
    "if number_100 < 4:\n",
    "    for i in range(number_100):\n",
    "        result_string += rome_100\n",
    "if number_100 == 4:\n",
    "    result_string += rome_400\n",
    "if number_100 == 5:\n",
    "    result_string += rome_500\n",
    "if number_100 > 5 and number_100 < 9:\n",
    "    result_string += rome_500\n",
    "    for i in range(3):\n",
    "        result_string += rome_100\n",
    "if number_100 == 9:\n",
    "    result_string += rome_900\n",
    "\n",
    "#десятки\n",
    "if number_10 < 4:\n",
    "    for i in range(number_10):\n",
    "        result_string += rome_10\n",
    "if number_10 == 4:\n",
    "    result_string += rome_40\n",
    "if number_10 == 5:\n",
    "    result_string += rome_50\n",
    "if number_10 > 5 and number_10 < 9:\n",
    "    result_string += rome_50\n",
    "    for i in range(3):\n",
    "        result_string += rome_10\n",
    "if number_10 == 9:\n",
    "    result_string += rome_90\n",
    "\n",
    "#единицы\n",
    "if number_1 < 4:\n",
    "    for i in range(number_1):\n",
    "        result_string += rome_1\n",
    "if number_1 == 4:\n",
    "    result_string += rome_4\n",
    "if number_1 == 5:\n",
    "    result_string += rome_5\n",
    "if number_1 > 5 and number_1 < 9:\n",
    "    result_string += rome_5\n",
    "    for i in range(3):\n",
    "        result_string += rome_1\n",
    "if number_1 == 9:\n",
    "    result_string += rome_9\n",
    "\n",
    "print(result_string)\n"
   ],
   "outputs": [
    {
     "name": "stdout",
     "output_type": "stream",
     "text": [
      "MMMCMXCIX\n"
     ]
    }
   ],
   "execution_count": 31
  },
  {
   "cell_type": "markdown",
   "id": "ca6a4c0a",
   "metadata": {},
   "source": [
    "## Задание 5: Проверка на вещественное число\n",
    "\n",
    "Пользователь вводит данные, проверить - являются ли они положительным вещественным числом. Не использовать встроенные функции для проверки, только методы данных и конструкцию IF. (Дополнительное задание, по желанию - проверка на отрицательные вещественные числа)\n",
    "\n",
    "<br>\n",
    "\n",
    "**Примеры:**\n",
    "* `5.6  -> True`\n",
    "* `.78  -> True`\n",
    "* `.67. -> False`\n",
    "* `5    -> True`"
   ]
  },
  {
   "cell_type": "code",
   "id": "74e39179",
   "metadata": {
    "ExecuteTime": {
     "end_time": "2025-10-07T22:51:23.586967Z",
     "start_time": "2025-10-07T22:51:19.676950Z"
    }
   },
   "source": [
    "input_real_number = input(\"Input number:\")\n",
    "real_number = input_real_number.replace(\".\", \"\", 1)\n",
    "real_number = real_number.replace(\",\", \"\")\n",
    "print(real_number.isdigit() or real_number.isdecimal() or real_number.isnumeric())"
   ],
   "outputs": [
    {
     "name": "stdout",
     "output_type": "stream",
     "text": [
      "True\n"
     ]
    }
   ],
   "execution_count": 50
  }
 ],
 "metadata": {
  "kernelspec": {
   "display_name": ".venv (3.11.12)",
   "language": "python",
   "name": "python3"
  },
  "language_info": {
   "name": "python",
   "version": "3.11.12"
  }
 },
 "nbformat": 4,
 "nbformat_minor": 5
}
